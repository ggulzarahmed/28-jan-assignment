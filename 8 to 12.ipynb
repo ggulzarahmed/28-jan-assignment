{
 "cells": [
  {
   "attachments": {},
   "cell_type": "markdown",
   "metadata": {},
   "source": [
    "Q 8: Write a NumPy program to create an array of all the even integers from 30 to 70"
   ]
  },
  {
   "cell_type": "code",
   "execution_count": 6,
   "metadata": {},
   "outputs": [],
   "source": [
    "import numpy as np"
   ]
  },
  {
   "cell_type": "code",
   "execution_count": 7,
   "metadata": {},
   "outputs": [],
   "source": [
    "even_arr = np.array(range(30, 71, 2))"
   ]
  },
  {
   "cell_type": "code",
   "execution_count": 8,
   "metadata": {},
   "outputs": [
    {
     "data": {
      "text/plain": [
       "array([30, 32, 34, 36, 38, 40, 42, 44, 46, 48, 50, 52, 54, 56, 58, 60, 62,\n",
       "       64, 66, 68, 70])"
      ]
     },
     "execution_count": 8,
     "metadata": {},
     "output_type": "execute_result"
    }
   ],
   "source": [
    "even_arr"
   ]
  },
  {
   "cell_type": "code",
   "execution_count": null,
   "metadata": {},
   "outputs": [],
   "source": []
  },
  {
   "attachments": {},
   "cell_type": "markdown",
   "metadata": {},
   "source": [
    "Q 9: Write a NumPy program to compute sum of all elements, sum of\n",
    "each column and sum of each row of a given array"
   ]
  },
  {
   "cell_type": "code",
   "execution_count": 11,
   "metadata": {},
   "outputs": [
    {
     "data": {
      "text/plain": [
       "array([[ 3, 26,  8],\n",
       "       [ 6,  4,  7],\n",
       "       [ 3,  9,  3]])"
      ]
     },
     "execution_count": 11,
     "metadata": {},
     "output_type": "execute_result"
    }
   ],
   "source": [
    "arr1 = np.random.randint(1, 30, 9).reshape(3, 3)\n",
    "arr1"
   ]
  },
  {
   "cell_type": "code",
   "execution_count": 13,
   "metadata": {},
   "outputs": [
    {
     "data": {
      "text/plain": [
       "array([12, 39, 18])"
      ]
     },
     "execution_count": 13,
     "metadata": {},
     "output_type": "execute_result"
    }
   ],
   "source": [
    "# Sum of each row \n",
    "np.sum(arr1, axis = 0)"
   ]
  },
  {
   "cell_type": "code",
   "execution_count": 14,
   "metadata": {},
   "outputs": [
    {
     "data": {
      "text/plain": [
       "array([37, 17, 15])"
      ]
     },
     "execution_count": 14,
     "metadata": {},
     "output_type": "execute_result"
    }
   ],
   "source": [
    "# Sum of each Column \n",
    "np.sum(arr1, axis=1)"
   ]
  },
  {
   "cell_type": "code",
   "execution_count": null,
   "metadata": {},
   "outputs": [],
   "source": []
  },
  {
   "attachments": {},
   "cell_type": "markdown",
   "metadata": {},
   "source": [
    "Q 10: Write a NumPy program to create a 5x5 zero matrix with\n",
    "elements on the main diagonal equal to 1, 2, 3, 4, 5"
   ]
  },
  {
   "cell_type": "code",
   "execution_count": 18,
   "metadata": {},
   "outputs": [],
   "source": [
    "zero = np.zeros((5,5))"
   ]
  },
  {
   "cell_type": "code",
   "execution_count": 19,
   "metadata": {},
   "outputs": [
    {
     "data": {
      "text/plain": [
       "array([[0., 0., 0., 0., 0.],\n",
       "       [0., 0., 0., 0., 0.],\n",
       "       [0., 0., 0., 0., 0.],\n",
       "       [0., 0., 0., 0., 0.],\n",
       "       [0., 0., 0., 0., 0.]])"
      ]
     },
     "execution_count": 19,
     "metadata": {},
     "output_type": "execute_result"
    }
   ],
   "source": [
    "zero"
   ]
  },
  {
   "cell_type": "code",
   "execution_count": 20,
   "metadata": {},
   "outputs": [],
   "source": [
    "for i in range(5):\n",
    "    zero[i, i] = i + 1"
   ]
  },
  {
   "cell_type": "code",
   "execution_count": 21,
   "metadata": {},
   "outputs": [
    {
     "data": {
      "text/plain": [
       "array([[1., 0., 0., 0., 0.],\n",
       "       [0., 2., 0., 0., 0.],\n",
       "       [0., 0., 3., 0., 0.],\n",
       "       [0., 0., 0., 4., 0.],\n",
       "       [0., 0., 0., 0., 5.]])"
      ]
     },
     "execution_count": 21,
     "metadata": {},
     "output_type": "execute_result"
    }
   ],
   "source": [
    "zero"
   ]
  },
  {
   "cell_type": "code",
   "execution_count": null,
   "metadata": {},
   "outputs": [],
   "source": []
  },
  {
   "attachments": {},
   "cell_type": "markdown",
   "metadata": {},
   "source": [
    "Q 11: Write a NumPy program to sort a given array by row and column in ascending order"
   ]
  },
  {
   "cell_type": "code",
   "execution_count": 22,
   "metadata": {},
   "outputs": [
    {
     "data": {
      "text/plain": [
       "array([[[ 19,  -9,  21,   1],\n",
       "        [-10,  21,  27,   4],\n",
       "        [ -6,  27,  27,  15]],\n",
       "\n",
       "       [[  9,   1,  22,  -7],\n",
       "        [  2,  -9,   6,  -9],\n",
       "        [ 10,  18,  10,  13]],\n",
       "\n",
       "       [[ 21,  19,   9,  -5],\n",
       "        [ 25,   0,  -1,   3],\n",
       "        [ 25,  18,  -9,  16]]])"
      ]
     },
     "execution_count": 22,
     "metadata": {},
     "output_type": "execute_result"
    }
   ],
   "source": [
    "arr2 = np.random.randint(-10, 30, 36).reshape(3, 3, 4)\n",
    "arr2"
   ]
  },
  {
   "cell_type": "code",
   "execution_count": 23,
   "metadata": {},
   "outputs": [],
   "source": [
    "arr2.sort()"
   ]
  },
  {
   "cell_type": "code",
   "execution_count": 24,
   "metadata": {},
   "outputs": [
    {
     "data": {
      "text/plain": [
       "array([[[ -9,   1,  19,  21],\n",
       "        [-10,   4,  21,  27],\n",
       "        [ -6,  15,  27,  27]],\n",
       "\n",
       "       [[ -7,   1,   9,  22],\n",
       "        [ -9,  -9,   2,   6],\n",
       "        [ 10,  10,  13,  18]],\n",
       "\n",
       "       [[ -5,   9,  19,  21],\n",
       "        [ -1,   0,   3,  25],\n",
       "        [ -9,  16,  18,  25]]])"
      ]
     },
     "execution_count": 24,
     "metadata": {},
     "output_type": "execute_result"
    }
   ],
   "source": [
    "arr2"
   ]
  },
  {
   "cell_type": "code",
   "execution_count": 25,
   "metadata": {},
   "outputs": [
    {
     "data": {
      "text/plain": [
       "array([[[-10,   1,  19,  21],\n",
       "        [ -9,   4,  21,  27],\n",
       "        [ -6,  15,  27,  27]],\n",
       "\n",
       "       [[ -9,  -9,   2,   6],\n",
       "        [ -7,   1,   9,  18],\n",
       "        [ 10,  10,  13,  22]],\n",
       "\n",
       "       [[ -9,   0,   3,  21],\n",
       "        [ -5,   9,  18,  25],\n",
       "        [ -1,  16,  19,  25]]])"
      ]
     },
     "execution_count": 25,
     "metadata": {},
     "output_type": "execute_result"
    }
   ],
   "source": [
    "# Sorting arr2 by column vise\n",
    "np.sort(arr2, axis=1)"
   ]
  },
  {
   "cell_type": "code",
   "execution_count": null,
   "metadata": {},
   "outputs": [],
   "source": []
  },
  {
   "attachments": {},
   "cell_type": "markdown",
   "metadata": {},
   "source": [
    "Q 12: Write a NumPy program to create a three-dimension array with shape (3,5,4) and set to a variable"
   ]
  },
  {
   "cell_type": "code",
   "execution_count": 26,
   "metadata": {},
   "outputs": [
    {
     "data": {
      "text/plain": [
       "array([[[98, 12, 33, 21],\n",
       "        [25, 63, 61,  1],\n",
       "        [ 4, 89, 20, 49],\n",
       "        [97, 69, 40, 92]],\n",
       "\n",
       "       [[ 7, 68, 67, 39],\n",
       "        [ 1, 22, 55, 56],\n",
       "        [59, 63, 38, 17],\n",
       "        [48, 47, 39, 85]],\n",
       "\n",
       "       [[27, 42, 78, 82],\n",
       "        [42, 52, 16, 97],\n",
       "        [35, 81, 57, 13],\n",
       "        [ 9,  6, 81, 75]],\n",
       "\n",
       "       [[66, 68, 18, 54],\n",
       "        [67, 16, 98, 47],\n",
       "        [37, 17, 26, 75],\n",
       "        [75, 48, 60, 17]]])"
      ]
     },
     "execution_count": 26,
     "metadata": {},
     "output_type": "execute_result"
    }
   ],
   "source": [
    "arr3 = np.random.randint(1, 100, 64).reshape(4, 4, 4)\n",
    "arr3"
   ]
  },
  {
   "cell_type": "code",
   "execution_count": null,
   "metadata": {},
   "outputs": [],
   "source": []
  }
 ],
 "metadata": {
  "kernelspec": {
   "display_name": "Python 3",
   "language": "python",
   "name": "python3"
  },
  "language_info": {
   "codemirror_mode": {
    "name": "ipython",
    "version": 3
   },
   "file_extension": ".py",
   "mimetype": "text/x-python",
   "name": "python",
   "nbconvert_exporter": "python",
   "pygments_lexer": "ipython3",
   "version": "3.10.9 (tags/v3.10.9:1dd9be6, Dec  6 2022, 20:01:21) [MSC v.1934 64 bit (AMD64)]"
  },
  "orig_nbformat": 4,
  "vscode": {
   "interpreter": {
    "hash": "5b410524a434d2a44288c77808dfb99f4b7615170af7462352ea0883e572ef2e"
   }
  }
 },
 "nbformat": 4,
 "nbformat_minor": 2
}
